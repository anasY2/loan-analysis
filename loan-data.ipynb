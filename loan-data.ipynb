{
 "cells": [
  {
   "cell_type": "markdown",
   "id": "5434bd04-fdaa-4f70-9a2a-2eb40ad25700",
   "metadata": {},
   "source": [
    "# World Bank Loan Analysis\n",
    "\n",
    "The [data](https://www.kaggle.com/datasets/felipeea/ida-credits-grants?select=IDA_Statement_Of_Credits_and_Grants_-_Historical_Data.csv) comes from the World Bank Group. This data set contains more than a million rows and 30 columns. \n",
    "The analysis will mainly be focused on India and I will try to answer following business questions:\n",
    "1. How many countries have taken loan from World Bank?\n",
    "2. Top 5 countries with highest loan amount.\n",
    "3. Top 5 countries with highest due amount.\n",
    "4. Project first approved loan for India.\n",
    "5. Top 5 project in India having highest loan.\n",
    "6. Top 5 project in India having highest  due amount of loans.\n",
    "7. Total number of loan projects that have fully repaid the loan.\n",
    "8. Top 5 maximum approval time in project for India.\n",
    "9. Top 5 minimum approval time in project for India.\n",
    "\n",
    "### Importing necessary libraries"
   ]
  },
  {
   "cell_type": "code",
   "execution_count": 1,
   "id": "d4c7b3e4-684b-4bea-a9ea-13ccc67440a9",
   "metadata": {},
   "outputs": [],
   "source": [
    "import numpy as np\n",
    "import pandas as pd\n",
    "import warnings\n",
    "warnings.simplefilter(action='ignore', category=FutureWarning)\n",
    "import matplotlib.pyplot as plt\n",
    "import seaborn as sns\n",
    "%matplotlib inline"
   ]
  },
  {
   "cell_type": "markdown",
   "id": "4941fe3a-2dd0-40d5-a926-9e4c0cb1de92",
   "metadata": {},
   "source": [
    "### Reading the dataset"
   ]
  },
  {
   "cell_type": "code",
   "execution_count": 2,
   "id": "443b1ab5-8a6e-4aae-bb8d-a700ada283d4",
   "metadata": {},
   "outputs": [
    {
     "data": {
      "text/html": [
       "<div>\n",
       "<style scoped>\n",
       "    .dataframe tbody tr th:only-of-type {\n",
       "        vertical-align: middle;\n",
       "    }\n",
       "\n",
       "    .dataframe tbody tr th {\n",
       "        vertical-align: top;\n",
       "    }\n",
       "\n",
       "    .dataframe thead th {\n",
       "        text-align: right;\n",
       "    }\n",
       "</style>\n",
       "<table border=\"1\" class=\"dataframe\">\n",
       "  <thead>\n",
       "    <tr style=\"text-align: right;\">\n",
       "      <th></th>\n",
       "      <th>End of Period</th>\n",
       "      <th>Credit Number</th>\n",
       "      <th>Region</th>\n",
       "      <th>Country Code</th>\n",
       "      <th>Country</th>\n",
       "      <th>Borrower</th>\n",
       "      <th>Credit Status</th>\n",
       "      <th>Service Charge Rate</th>\n",
       "      <th>Currency of Commitment</th>\n",
       "      <th>Project ID</th>\n",
       "      <th>...</th>\n",
       "      <th>Repaid 3rd Party</th>\n",
       "      <th>Due 3rd Party</th>\n",
       "      <th>Credits Held</th>\n",
       "      <th>First Repayment Date</th>\n",
       "      <th>Last Repayment Date</th>\n",
       "      <th>Agreement Signing Date</th>\n",
       "      <th>Board Approval Date</th>\n",
       "      <th>Effective Date (Most Recent)</th>\n",
       "      <th>Closed Date (Most Recent)</th>\n",
       "      <th>Last Disbursement Date</th>\n",
       "    </tr>\n",
       "  </thead>\n",
       "  <tbody>\n",
       "    <tr>\n",
       "      <th>0</th>\n",
       "      <td>05/31/2020 12:00:00 AM</td>\n",
       "      <td>IDA07770</td>\n",
       "      <td>LATIN AMERICA AND CARIBBEAN</td>\n",
       "      <td>HN</td>\n",
       "      <td>Honduras</td>\n",
       "      <td>MINISTERIO DE HACIENDA Y CREDITO PUBLICO</td>\n",
       "      <td>Fully Repaid</td>\n",
       "      <td>0.75</td>\n",
       "      <td>USD</td>\n",
       "      <td>P007353</td>\n",
       "      <td>...</td>\n",
       "      <td>0.0</td>\n",
       "      <td>0.0</td>\n",
       "      <td>0.0</td>\n",
       "      <td>09/01/1988 12:00:00 AM</td>\n",
       "      <td>03/01/2028 12:00:00 AM</td>\n",
       "      <td>04/06/1978 12:00:00 AM</td>\n",
       "      <td>03/14/1978 12:00:00 AM</td>\n",
       "      <td>08/15/1978 12:00:00 AM</td>\n",
       "      <td>12/31/1984 12:00:00 AM</td>\n",
       "      <td>NaN</td>\n",
       "    </tr>\n",
       "    <tr>\n",
       "      <th>1</th>\n",
       "      <td>05/31/2020 12:00:00 AM</td>\n",
       "      <td>IDA07780</td>\n",
       "      <td>SOUTH ASIA</td>\n",
       "      <td>AF</td>\n",
       "      <td>Afghanistan</td>\n",
       "      <td>STATE PLANNING COMM.</td>\n",
       "      <td>Fully Repaid</td>\n",
       "      <td>0.75</td>\n",
       "      <td>USD</td>\n",
       "      <td>P009314</td>\n",
       "      <td>...</td>\n",
       "      <td>0.0</td>\n",
       "      <td>0.0</td>\n",
       "      <td>0.0</td>\n",
       "      <td>06/15/1988 12:00:00 AM</td>\n",
       "      <td>12/15/2027 12:00:00 AM</td>\n",
       "      <td>04/10/1978 12:00:00 AM</td>\n",
       "      <td>03/21/1978 12:00:00 AM</td>\n",
       "      <td>09/19/1978 12:00:00 AM</td>\n",
       "      <td>06/30/1983 12:00:00 AM</td>\n",
       "      <td>NaN</td>\n",
       "    </tr>\n",
       "    <tr>\n",
       "      <th>2</th>\n",
       "      <td>05/31/2020 12:00:00 AM</td>\n",
       "      <td>IDA07790</td>\n",
       "      <td>SOUTH ASIA</td>\n",
       "      <td>AF</td>\n",
       "      <td>Afghanistan</td>\n",
       "      <td>MINISTRY OF COMMERCE</td>\n",
       "      <td>Fully Repaid</td>\n",
       "      <td>0.75</td>\n",
       "      <td>USD</td>\n",
       "      <td>P009315</td>\n",
       "      <td>...</td>\n",
       "      <td>0.0</td>\n",
       "      <td>0.0</td>\n",
       "      <td>0.0</td>\n",
       "      <td>06/15/1988 12:00:00 AM</td>\n",
       "      <td>12/15/2027 12:00:00 AM</td>\n",
       "      <td>09/27/1978 12:00:00 AM</td>\n",
       "      <td>03/21/1978 12:00:00 AM</td>\n",
       "      <td>05/15/1979 12:00:00 AM</td>\n",
       "      <td>06/30/1985 12:00:00 AM</td>\n",
       "      <td>NaN</td>\n",
       "    </tr>\n",
       "    <tr>\n",
       "      <th>3</th>\n",
       "      <td>05/31/2020 12:00:00 AM</td>\n",
       "      <td>IDA07800</td>\n",
       "      <td>MIDDLE EAST AND NORTH AFRICA</td>\n",
       "      <td>JO</td>\n",
       "      <td>Jordan</td>\n",
       "      <td>MINISTRY OF PLANNING &amp; INTNL COOPERATION</td>\n",
       "      <td>Repaying</td>\n",
       "      <td>0.75</td>\n",
       "      <td>USD</td>\n",
       "      <td>P005253</td>\n",
       "      <td>...</td>\n",
       "      <td>0.0</td>\n",
       "      <td>0.0</td>\n",
       "      <td>3360000.0</td>\n",
       "      <td>09/01/1988 12:00:00 AM</td>\n",
       "      <td>03/01/2028 12:00:00 AM</td>\n",
       "      <td>05/19/1978 12:00:00 AM</td>\n",
       "      <td>03/23/1978 12:00:00 AM</td>\n",
       "      <td>10/17/1978 12:00:00 AM</td>\n",
       "      <td>06/30/1983 12:00:00 AM</td>\n",
       "      <td>NaN</td>\n",
       "    </tr>\n",
       "    <tr>\n",
       "      <th>4</th>\n",
       "      <td>05/31/2020 12:00:00 AM</td>\n",
       "      <td>IDA07810</td>\n",
       "      <td>AFRICA</td>\n",
       "      <td>SD</td>\n",
       "      <td>Sudan</td>\n",
       "      <td>Ministry of Finance and National Economy</td>\n",
       "      <td>Repaying</td>\n",
       "      <td>0.75</td>\n",
       "      <td>USD</td>\n",
       "      <td>P002575</td>\n",
       "      <td>...</td>\n",
       "      <td>0.0</td>\n",
       "      <td>0.0</td>\n",
       "      <td>20680000.0</td>\n",
       "      <td>09/15/1988 12:00:00 AM</td>\n",
       "      <td>03/15/2028 12:00:00 AM</td>\n",
       "      <td>06/09/1978 12:00:00 AM</td>\n",
       "      <td>03/23/1978 12:00:00 AM</td>\n",
       "      <td>02/02/1979 12:00:00 AM</td>\n",
       "      <td>06/30/1983 12:00:00 AM</td>\n",
       "      <td>NaN</td>\n",
       "    </tr>\n",
       "  </tbody>\n",
       "</table>\n",
       "<p>5 rows × 30 columns</p>\n",
       "</div>"
      ],
      "text/plain": [
       "            End of Period Credit Number                        Region  \\\n",
       "0  05/31/2020 12:00:00 AM      IDA07770   LATIN AMERICA AND CARIBBEAN   \n",
       "1  05/31/2020 12:00:00 AM      IDA07780                    SOUTH ASIA   \n",
       "2  05/31/2020 12:00:00 AM      IDA07790                    SOUTH ASIA   \n",
       "3  05/31/2020 12:00:00 AM      IDA07800  MIDDLE EAST AND NORTH AFRICA   \n",
       "4  05/31/2020 12:00:00 AM      IDA07810                        AFRICA   \n",
       "\n",
       "  Country Code      Country                                  Borrower  \\\n",
       "0           HN     Honduras  MINISTERIO DE HACIENDA Y CREDITO PUBLICO   \n",
       "1           AF  Afghanistan                      STATE PLANNING COMM.   \n",
       "2           AF  Afghanistan                      MINISTRY OF COMMERCE   \n",
       "3           JO       Jordan  MINISTRY OF PLANNING & INTNL COOPERATION   \n",
       "4           SD        Sudan  Ministry of Finance and National Economy   \n",
       "\n",
       "  Credit Status  Service Charge Rate Currency of Commitment Project ID  ...  \\\n",
       "0  Fully Repaid                 0.75                    USD    P007353  ...   \n",
       "1  Fully Repaid                 0.75                    USD    P009314  ...   \n",
       "2  Fully Repaid                 0.75                    USD    P009315  ...   \n",
       "3      Repaying                 0.75                    USD    P005253  ...   \n",
       "4      Repaying                 0.75                    USD    P002575  ...   \n",
       "\n",
       "  Repaid 3rd Party  Due 3rd Party  Credits Held    First Repayment Date  \\\n",
       "0              0.0            0.0           0.0  09/01/1988 12:00:00 AM   \n",
       "1              0.0            0.0           0.0  06/15/1988 12:00:00 AM   \n",
       "2              0.0            0.0           0.0  06/15/1988 12:00:00 AM   \n",
       "3              0.0            0.0     3360000.0  09/01/1988 12:00:00 AM   \n",
       "4              0.0            0.0    20680000.0  09/15/1988 12:00:00 AM   \n",
       "\n",
       "      Last Repayment Date  Agreement Signing Date     Board Approval Date  \\\n",
       "0  03/01/2028 12:00:00 AM  04/06/1978 12:00:00 AM  03/14/1978 12:00:00 AM   \n",
       "1  12/15/2027 12:00:00 AM  04/10/1978 12:00:00 AM  03/21/1978 12:00:00 AM   \n",
       "2  12/15/2027 12:00:00 AM  09/27/1978 12:00:00 AM  03/21/1978 12:00:00 AM   \n",
       "3  03/01/2028 12:00:00 AM  05/19/1978 12:00:00 AM  03/23/1978 12:00:00 AM   \n",
       "4  03/15/2028 12:00:00 AM  06/09/1978 12:00:00 AM  03/23/1978 12:00:00 AM   \n",
       "\n",
       "  Effective Date (Most Recent)  Closed Date (Most Recent)  \\\n",
       "0       08/15/1978 12:00:00 AM     12/31/1984 12:00:00 AM   \n",
       "1       09/19/1978 12:00:00 AM     06/30/1983 12:00:00 AM   \n",
       "2       05/15/1979 12:00:00 AM     06/30/1985 12:00:00 AM   \n",
       "3       10/17/1978 12:00:00 AM     06/30/1983 12:00:00 AM   \n",
       "4       02/02/1979 12:00:00 AM     06/30/1983 12:00:00 AM   \n",
       "\n",
       "   Last Disbursement Date  \n",
       "0                     NaN  \n",
       "1                     NaN  \n",
       "2                     NaN  \n",
       "3                     NaN  \n",
       "4                     NaN  \n",
       "\n",
       "[5 rows x 30 columns]"
      ]
     },
     "execution_count": 2,
     "metadata": {},
     "output_type": "execute_result"
    }
   ],
   "source": [
    "df=pd.read_csv('OneDrive/Desktop/IDA_Statement_Of_Credits_and_Grants_-_Historical_Data.csv',low_memory=False)\n",
    "df.head()"
   ]
  },
  {
   "cell_type": "code",
   "execution_count": 3,
   "id": "06c26fed-e2ae-4c31-95d7-c77d4b214c8e",
   "metadata": {},
   "outputs": [
    {
     "data": {
      "text/plain": [
       "End of Period                    object\n",
       "Credit Number                    object\n",
       "Region                           object\n",
       "Country Code                     object\n",
       "Country                          object\n",
       "Borrower                         object\n",
       "Credit Status                    object\n",
       "Service Charge Rate             float64\n",
       "Currency of Commitment           object\n",
       "Project ID                       object\n",
       "Project Name                     object\n",
       "Original Principal Amount       float64\n",
       "Cancelled Amount                float64\n",
       "Undisbursed Amount              float64\n",
       "Disbursed Amount                float64\n",
       "Repaid to IDA                   float64\n",
       "Due to IDA                      float64\n",
       "Exchange Adjustment              object\n",
       "Borrower's Obligation           float64\n",
       "Sold 3rd Party                  float64\n",
       "Repaid 3rd Party                float64\n",
       "Due 3rd Party                   float64\n",
       "Credits Held                    float64\n",
       "First Repayment Date             object\n",
       "Last Repayment Date              object\n",
       "Agreement Signing Date           object\n",
       "Board Approval Date              object\n",
       "Effective Date (Most Recent)     object\n",
       "Closed Date (Most Recent)        object\n",
       "Last Disbursement Date           object\n",
       "dtype: object"
      ]
     },
     "execution_count": 3,
     "metadata": {},
     "output_type": "execute_result"
    }
   ],
   "source": [
    "df.dtypes"
   ]
  },
  {
   "cell_type": "markdown",
   "id": "1261dd5a-a07b-41da-865d-56f52046ee99",
   "metadata": {},
   "source": [
    "The name of the columns are in uppercase and have spaces ans special characters, to give them a uniform look we are going to convert them all to lowercase and replace the spaces with underscores along with removing the special characters if there are any.\n",
    "Also the columns are not in their respective datatypes and have to be taken care of."
   ]
  },
  {
   "cell_type": "markdown",
   "id": "abe12be0-4ece-43eb-ae31-8e8c11469c4a",
   "metadata": {},
   "source": [
    "### Data Preprocessing\n",
    "Steps:\n",
    "- converting columns to lowercase.\n",
    "- casting all date columns to datetime datatype.\n",
    "- replacing spaces and brackets.\n"
   ]
  },
  {
   "cell_type": "code",
   "execution_count": 4,
   "id": "112611f0-d9bd-46c5-861f-5d30f59f63a0",
   "metadata": {},
   "outputs": [],
   "source": [
    "df.columns =[x.lower() for x in df.columns]"
   ]
  },
  {
   "cell_type": "code",
   "execution_count": 5,
   "id": "cc31ed9e-fac8-4233-924b-00837d534015",
   "metadata": {},
   "outputs": [],
   "source": [
    "df['end of period']=pd.to_datetime(df['end of period'])\n",
    "df['first repayment date']=pd.to_datetime(df['first repayment date'])\n",
    "df['last repayment date']=pd.to_datetime(df['last repayment date'])\n",
    "df['agreement signing date']=pd.to_datetime(df['agreement signing date'])\n",
    "df['board approval date']=pd.to_datetime(df['board approval date'])\n",
    "df['effective date (most recent)']=pd.to_datetime(df['effective date (most recent)'])\n",
    "df['closed date (most recent)']=pd.to_datetime(df['closed date (most recent)'])\n",
    "df['last disbursement date']=pd.to_datetime(df['last disbursement date'])"
   ]
  },
  {
   "cell_type": "code",
   "execution_count": 6,
   "id": "68a2e0e0-281a-4c2b-8251-db9207cae008",
   "metadata": {},
   "outputs": [],
   "source": [
    "df.columns = df.columns.str.replace(')','')\n",
    "df.columns = df.columns.str.replace(' ','_')\n",
    "df.columns = df.columns.str.replace('(','')"
   ]
  },
  {
   "cell_type": "code",
   "execution_count": 7,
   "id": "4a5680f9-cc8b-406a-b1af-e4667bee6bb1",
   "metadata": {},
   "outputs": [
    {
     "name": "stdout",
     "output_type": "stream",
     "text": [
      "Index(['end_of_period', 'credit_number', 'region', 'country_code', 'country',\n",
      "       'borrower', 'credit_status', 'service_charge_rate',\n",
      "       'currency_of_commitment', 'project_id', 'project_name',\n",
      "       'original_principal_amount', 'cancelled_amount', 'undisbursed_amount',\n",
      "       'disbursed_amount', 'repaid_to_ida', 'due_to_ida',\n",
      "       'exchange_adjustment', 'borrower's_obligation', 'sold_3rd_party',\n",
      "       'repaid_3rd_party', 'due_3rd_party', 'credits_held',\n",
      "       'first_repayment_date', 'last_repayment_date', 'agreement_signing_date',\n",
      "       'board_approval_date', 'effective_date_most_recent',\n",
      "       'closed_date_most_recent', 'last_disbursement_date'],\n",
      "      dtype='object')\n",
      "end_of_period                 datetime64[ns]\n",
      "credit_number                         object\n",
      "region                                object\n",
      "country_code                          object\n",
      "country                               object\n",
      "borrower                              object\n",
      "credit_status                         object\n",
      "service_charge_rate                  float64\n",
      "currency_of_commitment                object\n",
      "project_id                            object\n",
      "project_name                          object\n",
      "original_principal_amount            float64\n",
      "cancelled_amount                     float64\n",
      "undisbursed_amount                   float64\n",
      "disbursed_amount                     float64\n",
      "repaid_to_ida                        float64\n",
      "due_to_ida                           float64\n",
      "exchange_adjustment                   object\n",
      "borrower's_obligation                float64\n",
      "sold_3rd_party                       float64\n",
      "repaid_3rd_party                     float64\n",
      "due_3rd_party                        float64\n",
      "credits_held                         float64\n",
      "first_repayment_date          datetime64[ns]\n",
      "last_repayment_date           datetime64[ns]\n",
      "agreement_signing_date        datetime64[ns]\n",
      "board_approval_date           datetime64[ns]\n",
      "effective_date_most_recent    datetime64[ns]\n",
      "closed_date_most_recent       datetime64[ns]\n",
      "last_disbursement_date        datetime64[ns]\n",
      "dtype: object\n"
     ]
    }
   ],
   "source": [
    "print(df.columns)\n",
    "print(df.dtypes)"
   ]
  },
  {
   "cell_type": "markdown",
   "id": "b42de6c0-933c-453c-b888-642bc6aef9a0",
   "metadata": {},
   "source": [
    "Now the data types and the format is correct and we can move on to the analysis by answering questions.\n",
    "<br>\n",
    "### 1. How many countries have taken loan from World Bank?"
   ]
  },
  {
   "cell_type": "code",
   "execution_count": 8,
   "id": "9695ebff-a001-4e7b-ab82-fee5707fbfe4",
   "metadata": {},
   "outputs": [
    {
     "data": {
      "text/plain": [
       "132"
      ]
     },
     "execution_count": 8,
     "metadata": {},
     "output_type": "execute_result"
    }
   ],
   "source": [
    "df.country.unique().shape[0]"
   ]
  },
  {
   "cell_type": "markdown",
   "id": "353919ed-4394-42a0-b717-7254f3a6b010",
   "metadata": {},
   "source": [
    "In total there are 132 countries all around the world who had taken loan."
   ]
  },
  {
   "cell_type": "markdown",
   "id": "08fa799a-dfb4-428f-8680-223fbd00933a",
   "metadata": {},
   "source": [
    "### 2. Top 5 countries with highest loan amount"
   ]
  },
  {
   "cell_type": "code",
   "execution_count": 9,
   "id": "55814e69-c075-49fa-ba94-2a8de8f15bb8",
   "metadata": {},
   "outputs": [
    {
     "data": {
      "text/html": [
       "<div>\n",
       "<style scoped>\n",
       "    .dataframe tbody tr th:only-of-type {\n",
       "        vertical-align: middle;\n",
       "    }\n",
       "\n",
       "    .dataframe tbody tr th {\n",
       "        vertical-align: top;\n",
       "    }\n",
       "\n",
       "    .dataframe thead th {\n",
       "        text-align: right;\n",
       "    }\n",
       "</style>\n",
       "<table border=\"1\" class=\"dataframe\">\n",
       "  <thead>\n",
       "    <tr style=\"text-align: right;\">\n",
       "      <th></th>\n",
       "      <th>country</th>\n",
       "      <th>original_principal_amount</th>\n",
       "      <th>cancelled_amount</th>\n",
       "    </tr>\n",
       "  </thead>\n",
       "  <tbody>\n",
       "    <tr>\n",
       "      <th>0</th>\n",
       "      <td>Honduras</td>\n",
       "      <td>5000000.0</td>\n",
       "      <td>24276.41</td>\n",
       "    </tr>\n",
       "    <tr>\n",
       "      <th>1</th>\n",
       "      <td>Afghanistan</td>\n",
       "      <td>22000000.0</td>\n",
       "      <td>21912427.15</td>\n",
       "    </tr>\n",
       "    <tr>\n",
       "      <th>2</th>\n",
       "      <td>Afghanistan</td>\n",
       "      <td>18000000.0</td>\n",
       "      <td>16914196.18</td>\n",
       "    </tr>\n",
       "    <tr>\n",
       "      <th>3</th>\n",
       "      <td>Jordan</td>\n",
       "      <td>14000000.0</td>\n",
       "      <td>0.00</td>\n",
       "    </tr>\n",
       "    <tr>\n",
       "      <th>4</th>\n",
       "      <td>Sudan</td>\n",
       "      <td>22000000.0</td>\n",
       "      <td>0.00</td>\n",
       "    </tr>\n",
       "    <tr>\n",
       "      <th>5</th>\n",
       "      <td>Sudan</td>\n",
       "      <td>25000000.0</td>\n",
       "      <td>1458646.74</td>\n",
       "    </tr>\n",
       "    <tr>\n",
       "      <th>6</th>\n",
       "      <td>Chad</td>\n",
       "      <td>11500000.0</td>\n",
       "      <td>11500000.00</td>\n",
       "    </tr>\n",
       "    <tr>\n",
       "      <th>7</th>\n",
       "      <td>Cameroon</td>\n",
       "      <td>13000000.0</td>\n",
       "      <td>0.00</td>\n",
       "    </tr>\n",
       "    <tr>\n",
       "      <th>8</th>\n",
       "      <td>Indonesia</td>\n",
       "      <td>40000000.0</td>\n",
       "      <td>0.00</td>\n",
       "    </tr>\n",
       "    <tr>\n",
       "      <th>9</th>\n",
       "      <td>Liberia</td>\n",
       "      <td>6000000.0</td>\n",
       "      <td>0.00</td>\n",
       "    </tr>\n",
       "  </tbody>\n",
       "</table>\n",
       "</div>"
      ],
      "text/plain": [
       "       country  original_principal_amount  cancelled_amount\n",
       "0     Honduras                  5000000.0          24276.41\n",
       "1  Afghanistan                 22000000.0       21912427.15\n",
       "2  Afghanistan                 18000000.0       16914196.18\n",
       "3       Jordan                 14000000.0              0.00\n",
       "4        Sudan                 22000000.0              0.00\n",
       "5        Sudan                 25000000.0        1458646.74\n",
       "6         Chad                 11500000.0       11500000.00\n",
       "7     Cameroon                 13000000.0              0.00\n",
       "8    Indonesia                 40000000.0              0.00\n",
       "9      Liberia                  6000000.0              0.00"
      ]
     },
     "execution_count": 9,
     "metadata": {},
     "output_type": "execute_result"
    }
   ],
   "source": [
    "df[['country','original_principal_amount','cancelled_amount']].head(10)"
   ]
  },
  {
   "cell_type": "code",
   "execution_count": 10,
   "id": "79d7ecdc-4dd3-4baa-8e92-a6b72b2dfa59",
   "metadata": {},
   "outputs": [
    {
     "data": {
      "text/html": [
       "<div>\n",
       "<style scoped>\n",
       "    .dataframe tbody tr th:only-of-type {\n",
       "        vertical-align: middle;\n",
       "    }\n",
       "\n",
       "    .dataframe tbody tr th {\n",
       "        vertical-align: top;\n",
       "    }\n",
       "\n",
       "    .dataframe thead th {\n",
       "        text-align: right;\n",
       "    }\n",
       "</style>\n",
       "<table border=\"1\" class=\"dataframe\">\n",
       "  <thead>\n",
       "    <tr style=\"text-align: right;\">\n",
       "      <th></th>\n",
       "      <th>country</th>\n",
       "      <th>loan</th>\n",
       "    </tr>\n",
       "  </thead>\n",
       "  <tbody>\n",
       "    <tr>\n",
       "      <th>54</th>\n",
       "      <td>India</td>\n",
       "      <td>5.257693e+12</td>\n",
       "    </tr>\n",
       "    <tr>\n",
       "      <th>6</th>\n",
       "      <td>Bangladesh</td>\n",
       "      <td>2.566757e+12</td>\n",
       "    </tr>\n",
       "    <tr>\n",
       "      <th>92</th>\n",
       "      <td>Pakistan</td>\n",
       "      <td>2.206612e+12</td>\n",
       "    </tr>\n",
       "    <tr>\n",
       "      <th>126</th>\n",
       "      <td>Vietnam</td>\n",
       "      <td>2.012682e+12</td>\n",
       "    </tr>\n",
       "    <tr>\n",
       "      <th>42</th>\n",
       "      <td>Ethiopia</td>\n",
       "      <td>1.879644e+12</td>\n",
       "    </tr>\n",
       "  </tbody>\n",
       "</table>\n",
       "</div>"
      ],
      "text/plain": [
       "        country          loan\n",
       "54        India  5.257693e+12\n",
       "6    Bangladesh  2.566757e+12\n",
       "92     Pakistan  2.206612e+12\n",
       "126     Vietnam  2.012682e+12\n",
       "42     Ethiopia  1.879644e+12"
      ]
     },
     "execution_count": 10,
     "metadata": {},
     "output_type": "execute_result"
    }
   ],
   "source": [
    "df['loan'] = df['original_principal_amount'] - df['cancelled_amount']\n",
    "\n",
    "df.groupby('country').sum().reset_index()[['country','loan']].sort_values(by='loan',ascending=False).head(5)"
   ]
  },
  {
   "cell_type": "markdown",
   "id": "3a1e1023-516d-41ef-ad11-c80ffd8ebf74",
   "metadata": {},
   "source": [
    "The 5 countries with the highest loan are: India, Bangladesh, Pakistan, Vietnam and Ethiopia"
   ]
  },
  {
   "cell_type": "markdown",
   "id": "8f4ea0a5-8bf9-4b72-923e-0b6cde49d9b5",
   "metadata": {},
   "source": [
    "### 3. Top 5 countries with highest due amount"
   ]
  },
  {
   "cell_type": "code",
   "execution_count": 11,
   "id": "3ba2df45-47bd-42a4-9e7c-6ef1432b1885",
   "metadata": {},
   "outputs": [
    {
     "data": {
      "text/html": [
       "<div>\n",
       "<style scoped>\n",
       "    .dataframe tbody tr th:only-of-type {\n",
       "        vertical-align: middle;\n",
       "    }\n",
       "\n",
       "    .dataframe tbody tr th {\n",
       "        vertical-align: top;\n",
       "    }\n",
       "\n",
       "    .dataframe thead th {\n",
       "        text-align: right;\n",
       "    }\n",
       "</style>\n",
       "<table border=\"1\" class=\"dataframe\">\n",
       "  <thead>\n",
       "    <tr style=\"text-align: right;\">\n",
       "      <th></th>\n",
       "      <th>country</th>\n",
       "      <th>due_to_ida</th>\n",
       "    </tr>\n",
       "  </thead>\n",
       "  <tbody>\n",
       "    <tr>\n",
       "      <th>54</th>\n",
       "      <td>India</td>\n",
       "      <td>2.930559e+12</td>\n",
       "    </tr>\n",
       "    <tr>\n",
       "      <th>6</th>\n",
       "      <td>Bangladesh</td>\n",
       "      <td>1.528951e+12</td>\n",
       "    </tr>\n",
       "    <tr>\n",
       "      <th>92</th>\n",
       "      <td>Pakistan</td>\n",
       "      <td>1.507379e+12</td>\n",
       "    </tr>\n",
       "    <tr>\n",
       "      <th>126</th>\n",
       "      <td>Vietnam</td>\n",
       "      <td>1.331179e+12</td>\n",
       "    </tr>\n",
       "    <tr>\n",
       "      <th>89</th>\n",
       "      <td>Nigeria</td>\n",
       "      <td>8.064623e+11</td>\n",
       "    </tr>\n",
       "  </tbody>\n",
       "</table>\n",
       "</div>"
      ],
      "text/plain": [
       "        country    due_to_ida\n",
       "54        India  2.930559e+12\n",
       "6    Bangladesh  1.528951e+12\n",
       "92     Pakistan  1.507379e+12\n",
       "126     Vietnam  1.331179e+12\n",
       "89      Nigeria  8.064623e+11"
      ]
     },
     "execution_count": 11,
     "metadata": {},
     "output_type": "execute_result"
    }
   ],
   "source": [
    "df.groupby('country').sum().reset_index()[['country','due_to_ida']].sort_values(by='due_to_ida',ascending=False).head(5)"
   ]
  },
  {
   "cell_type": "markdown",
   "id": "bbbdfc40-8776-40fb-b438-6b27575a28d8",
   "metadata": {},
   "source": [
    "The top 5 countries with highest due amount are: India, Bangladesh, Pakistan, Vietnam and Nigeria"
   ]
  },
  {
   "cell_type": "markdown",
   "id": "0e1659cf-a62f-47f7-8fb6-356bef76a6e2",
   "metadata": {},
   "source": [
    "### 4. Project first approved loan in India"
   ]
  },
  {
   "cell_type": "code",
   "execution_count": 12,
   "id": "942ebea8-8474-467f-8191-16afed4f61ed",
   "metadata": {},
   "outputs": [
    {
     "data": {
      "text/html": [
       "<div>\n",
       "<style scoped>\n",
       "    .dataframe tbody tr th:only-of-type {\n",
       "        vertical-align: middle;\n",
       "    }\n",
       "\n",
       "    .dataframe tbody tr th {\n",
       "        vertical-align: top;\n",
       "    }\n",
       "\n",
       "    .dataframe thead th {\n",
       "        text-align: right;\n",
       "    }\n",
       "</style>\n",
       "<table border=\"1\" class=\"dataframe\">\n",
       "  <thead>\n",
       "    <tr style=\"text-align: right;\">\n",
       "      <th></th>\n",
       "      <th>project_name</th>\n",
       "      <th>board_approval_date</th>\n",
       "    </tr>\n",
       "  </thead>\n",
       "  <tbody>\n",
       "    <tr>\n",
       "      <th>311088</th>\n",
       "      <td>HIGHWAYS</td>\n",
       "      <td>1961-06-20</td>\n",
       "    </tr>\n",
       "    <tr>\n",
       "      <th>532076</th>\n",
       "      <td>HIGHWAYS</td>\n",
       "      <td>1961-06-20</td>\n",
       "    </tr>\n",
       "    <tr>\n",
       "      <th>29945</th>\n",
       "      <td>HIGHWAYS</td>\n",
       "      <td>1961-06-20</td>\n",
       "    </tr>\n",
       "    <tr>\n",
       "      <th>138519</th>\n",
       "      <td>HIGHWAYS</td>\n",
       "      <td>1961-06-20</td>\n",
       "    </tr>\n",
       "    <tr>\n",
       "      <th>303808</th>\n",
       "      <td>HIGHWAYS</td>\n",
       "      <td>1961-06-20</td>\n",
       "    </tr>\n",
       "  </tbody>\n",
       "</table>\n",
       "</div>"
      ],
      "text/plain": [
       "       project_name board_approval_date\n",
       "311088     HIGHWAYS          1961-06-20\n",
       "532076     HIGHWAYS          1961-06-20\n",
       "29945      HIGHWAYS          1961-06-20\n",
       "138519     HIGHWAYS          1961-06-20\n",
       "303808     HIGHWAYS          1961-06-20"
      ]
     },
     "execution_count": 12,
     "metadata": {},
     "output_type": "execute_result"
    }
   ],
   "source": [
    "df.query('country == \"India\"').sort_values(by='board_approval_date')[['project_name','board_approval_date']].head()"
   ]
  },
  {
   "cell_type": "markdown",
   "id": "b6f41a90-12bb-4b42-9aee-b449a0d4586a",
   "metadata": {},
   "source": [
    "The first loan approved by World Bank was for the project \"Highways\" and was approved on 20 June 1961"
   ]
  },
  {
   "cell_type": "markdown",
   "id": "82906b5a-b305-4d69-a15f-10ed2f987dd3",
   "metadata": {},
   "source": [
    "### 5. Top 5 project in India having highest loan"
   ]
  },
  {
   "cell_type": "code",
   "execution_count": 13,
   "id": "52c921a6-59fd-4fbc-b3d3-84f295af4d36",
   "metadata": {},
   "outputs": [
    {
     "data": {
      "text/html": [
       "<div>\n",
       "<style scoped>\n",
       "    .dataframe tbody tr th:only-of-type {\n",
       "        vertical-align: middle;\n",
       "    }\n",
       "\n",
       "    .dataframe tbody tr th {\n",
       "        vertical-align: top;\n",
       "    }\n",
       "\n",
       "    .dataframe thead th {\n",
       "        text-align: right;\n",
       "    }\n",
       "</style>\n",
       "<table border=\"1\" class=\"dataframe\">\n",
       "  <thead>\n",
       "    <tr style=\"text-align: right;\">\n",
       "      <th></th>\n",
       "      <th>project_name</th>\n",
       "      <th>loan</th>\n",
       "    </tr>\n",
       "  </thead>\n",
       "  <tbody>\n",
       "    <tr>\n",
       "      <th>154</th>\n",
       "      <td>IN: Elementary Education (SSA II)</td>\n",
       "      <td>1.606500e+11</td>\n",
       "    </tr>\n",
       "    <tr>\n",
       "      <th>192</th>\n",
       "      <td>IN: PMGSY Rural Roads Project</td>\n",
       "      <td>1.100784e+11</td>\n",
       "    </tr>\n",
       "    <tr>\n",
       "      <th>205</th>\n",
       "      <td>IN: SSA III</td>\n",
       "      <td>8.250840e+10</td>\n",
       "    </tr>\n",
       "    <tr>\n",
       "      <th>81</th>\n",
       "      <td>ELEMENTARY EDUCATION PROJECT (SSA)</td>\n",
       "      <td>5.950000e+10</td>\n",
       "    </tr>\n",
       "    <tr>\n",
       "      <th>389</th>\n",
       "      <td>SOCIAL SAFETY NETS</td>\n",
       "      <td>5.950000e+10</td>\n",
       "    </tr>\n",
       "  </tbody>\n",
       "</table>\n",
       "</div>"
      ],
      "text/plain": [
       "                           project_name          loan\n",
       "154   IN: Elementary Education (SSA II)  1.606500e+11\n",
       "192       IN: PMGSY Rural Roads Project  1.100784e+11\n",
       "205                         IN: SSA III  8.250840e+10\n",
       "81   ELEMENTARY EDUCATION PROJECT (SSA)  5.950000e+10\n",
       "389                  SOCIAL SAFETY NETS  5.950000e+10"
      ]
     },
     "execution_count": 13,
     "metadata": {},
     "output_type": "execute_result"
    }
   ],
   "source": [
    "india_df = df.query('country == \"India\"')\n",
    "india_df.groupby('project_name').sum().reset_index()[['project_name','loan']].sort_values(by='loan',ascending=False).head(5)"
   ]
  },
  {
   "cell_type": "markdown",
   "id": "01a61666-04e4-4334-956f-e96492a4ea76",
   "metadata": {},
   "source": [
    "India has taken highest loan amount for Elementary Education(SSA II) and then for Rural Roads Project."
   ]
  },
  {
   "cell_type": "markdown",
   "id": "cbf61a29-9e59-460b-9195-0e9cc295fc82",
   "metadata": {},
   "source": [
    "### 6. Top 5 project in India having highest  due amount of loans."
   ]
  },
  {
   "cell_type": "code",
   "execution_count": 14,
   "id": "27714f6a-9f6d-469d-8348-93a6a7e2f3f1",
   "metadata": {},
   "outputs": [
    {
     "data": {
      "text/html": [
       "<div>\n",
       "<style scoped>\n",
       "    .dataframe tbody tr th:only-of-type {\n",
       "        vertical-align: middle;\n",
       "    }\n",
       "\n",
       "    .dataframe tbody tr th {\n",
       "        vertical-align: top;\n",
       "    }\n",
       "\n",
       "    .dataframe thead th {\n",
       "        text-align: right;\n",
       "    }\n",
       "</style>\n",
       "<table border=\"1\" class=\"dataframe\">\n",
       "  <thead>\n",
       "    <tr style=\"text-align: right;\">\n",
       "      <th></th>\n",
       "      <th>project_name</th>\n",
       "      <th>due_to_ida</th>\n",
       "    </tr>\n",
       "  </thead>\n",
       "  <tbody>\n",
       "    <tr>\n",
       "      <th>154</th>\n",
       "      <td>IN: Elementary Education (SSA II)</td>\n",
       "      <td>1.287342e+11</td>\n",
       "    </tr>\n",
       "    <tr>\n",
       "      <th>192</th>\n",
       "      <td>IN: PMGSY Rural Roads Project</td>\n",
       "      <td>6.184947e+10</td>\n",
       "    </tr>\n",
       "    <tr>\n",
       "      <th>205</th>\n",
       "      <td>IN: SSA III</td>\n",
       "      <td>5.594649e+10</td>\n",
       "    </tr>\n",
       "    <tr>\n",
       "      <th>81</th>\n",
       "      <td>ELEMENTARY EDUCATION PROJECT (SSA)</td>\n",
       "      <td>5.153341e+10</td>\n",
       "    </tr>\n",
       "    <tr>\n",
       "      <th>74</th>\n",
       "      <td>DPEP II</td>\n",
       "      <td>3.705193e+10</td>\n",
       "    </tr>\n",
       "  </tbody>\n",
       "</table>\n",
       "</div>"
      ],
      "text/plain": [
       "                           project_name    due_to_ida\n",
       "154   IN: Elementary Education (SSA II)  1.287342e+11\n",
       "192       IN: PMGSY Rural Roads Project  6.184947e+10\n",
       "205                         IN: SSA III  5.594649e+10\n",
       "81   ELEMENTARY EDUCATION PROJECT (SSA)  5.153341e+10\n",
       "74                              DPEP II  3.705193e+10"
      ]
     },
     "execution_count": 14,
     "metadata": {},
     "output_type": "execute_result"
    }
   ],
   "source": [
    "india_df.groupby('project_name').sum().reset_index()[['project_name','due_to_ida']].sort_values(by='due_to_ida',ascending=False).head(5)"
   ]
  },
  {
   "cell_type": "markdown",
   "id": "d4c126f0-003b-432d-bde3-9fe94f1824d4",
   "metadata": {},
   "source": [
    "Elementary Education and Rural Roads projects are both in the top for highest loan as well as highest due amount."
   ]
  },
  {
   "cell_type": "markdown",
   "id": "e8d1af60-7c04-48ee-a408-e44c8debb69e",
   "metadata": {},
   "source": [
    "### 7. Total number of loan projects that have fully repaid the loan."
   ]
  },
  {
   "cell_type": "code",
   "execution_count": 15,
   "id": "eaab299b-bbf1-4b56-b47e-8ad9379fe102",
   "metadata": {},
   "outputs": [
    {
     "data": {
      "text/plain": [
       "27"
      ]
     },
     "execution_count": 15,
     "metadata": {},
     "output_type": "execute_result"
    }
   ],
   "source": [
    "repaid_df = india_df.query('credit_status == \"Fully Repaid\"')\n",
    "repaid_df['project_name'].unique().shape[0]"
   ]
  },
  {
   "cell_type": "markdown",
   "id": "82eef91e-b7b1-48e3-91e0-6ce35c358c37",
   "metadata": {},
   "source": [
    "There are total 27 projects in India who have taken loan and have fully repaid it."
   ]
  },
  {
   "cell_type": "markdown",
   "id": "dd7cdfde-b2b3-4387-aa25-15f3fade8e0f",
   "metadata": {},
   "source": [
    "### 8. Top 5 maximum approval time in project for India."
   ]
  },
  {
   "cell_type": "code",
   "execution_count": 46,
   "id": "3f5af42d-f1ec-4a39-87df-bc798f082041",
   "metadata": {},
   "outputs": [
    {
     "data": {
      "text/html": [
       "<div>\n",
       "<style scoped>\n",
       "    .dataframe tbody tr th:only-of-type {\n",
       "        vertical-align: middle;\n",
       "    }\n",
       "\n",
       "    .dataframe tbody tr th {\n",
       "        vertical-align: top;\n",
       "    }\n",
       "\n",
       "    .dataframe thead th {\n",
       "        text-align: right;\n",
       "    }\n",
       "</style>\n",
       "<table border=\"1\" class=\"dataframe\">\n",
       "  <thead>\n",
       "    <tr style=\"text-align: right;\">\n",
       "      <th></th>\n",
       "      <th>project_name</th>\n",
       "      <th>processing_time</th>\n",
       "    </tr>\n",
       "  </thead>\n",
       "  <tbody>\n",
       "    <tr>\n",
       "      <th>24932</th>\n",
       "      <td>UPPER INDRAVATI POWE</td>\n",
       "      <td>4434 days</td>\n",
       "    </tr>\n",
       "    <tr>\n",
       "      <th>614699</th>\n",
       "      <td>MAHARASHTRA IRRIG. I</td>\n",
       "      <td>4186 days</td>\n",
       "    </tr>\n",
       "    <tr>\n",
       "      <th>705158</th>\n",
       "      <td>IN: Vocational Training</td>\n",
       "      <td>4135 days</td>\n",
       "    </tr>\n",
       "    <tr>\n",
       "      <th>858653</th>\n",
       "      <td>IN: RAJ WSRP</td>\n",
       "      <td>4058 days</td>\n",
       "    </tr>\n",
       "    <tr>\n",
       "      <th>881139</th>\n",
       "      <td>TAMIL NADU WATER SUP</td>\n",
       "      <td>3929 days</td>\n",
       "    </tr>\n",
       "  </tbody>\n",
       "</table>\n",
       "</div>"
      ],
      "text/plain": [
       "                   project_name processing_time\n",
       "24932      UPPER INDRAVATI POWE       4434 days\n",
       "614699     MAHARASHTRA IRRIG. I       4186 days\n",
       "705158  IN: Vocational Training       4135 days\n",
       "858653             IN: RAJ WSRP       4058 days\n",
       "881139     TAMIL NADU WATER SUP       3929 days"
      ]
     },
     "execution_count": 46,
     "metadata": {},
     "output_type": "execute_result"
    }
   ],
   "source": [
    "df['processing_time'] = df['closed_date_most_recent'] - df['board_approval_date']\n",
    "df.sort_values(by='processing_time',ascending=False).query('country == \"India\"')[['project_name','processing_time']].drop_duplicates().head(5)"
   ]
  },
  {
   "cell_type": "markdown",
   "id": "7c37ca6e-be2e-43e8-9787-d20d635d7e53",
   "metadata": {},
   "source": [
    "UPPER INDRAVATI POWE has the longest approval time which is approx 12 years.\n",
    "### 9. Top 5 minimum approval time in project for India."
   ]
  },
  {
   "cell_type": "code",
   "execution_count": 47,
   "id": "35d6f086-b801-4168-9ff2-ba99aaa2027f",
   "metadata": {},
   "outputs": [
    {
     "data": {
      "text/html": [
       "<div>\n",
       "<style scoped>\n",
       "    .dataframe tbody tr th:only-of-type {\n",
       "        vertical-align: middle;\n",
       "    }\n",
       "\n",
       "    .dataframe tbody tr th {\n",
       "        vertical-align: top;\n",
       "    }\n",
       "\n",
       "    .dataframe thead th {\n",
       "        text-align: right;\n",
       "    }\n",
       "</style>\n",
       "<table border=\"1\" class=\"dataframe\">\n",
       "  <thead>\n",
       "    <tr style=\"text-align: right;\">\n",
       "      <th></th>\n",
       "      <th>project_name</th>\n",
       "      <th>processing_time</th>\n",
       "    </tr>\n",
       "  </thead>\n",
       "  <tbody>\n",
       "    <tr>\n",
       "      <th>323998</th>\n",
       "      <td>IN: MIZORAM ROADS</td>\n",
       "      <td>71 days</td>\n",
       "    </tr>\n",
       "    <tr>\n",
       "      <th>359942</th>\n",
       "      <td>AP SAL II</td>\n",
       "      <td>187 days</td>\n",
       "    </tr>\n",
       "    <tr>\n",
       "      <th>806308</th>\n",
       "      <td>UP FISCAL REFORM &amp; PUBLIC SECTOR RESTRCT</td>\n",
       "      <td>188 days</td>\n",
       "    </tr>\n",
       "    <tr>\n",
       "      <th>329648</th>\n",
       "      <td>UP FISCAL REFORM &amp; PUBLIC SECTOR RE</td>\n",
       "      <td>188 days</td>\n",
       "    </tr>\n",
       "    <tr>\n",
       "      <th>53493</th>\n",
       "      <td>KARN SAL I</td>\n",
       "      <td>193 days</td>\n",
       "    </tr>\n",
       "  </tbody>\n",
       "</table>\n",
       "</div>"
      ],
      "text/plain": [
       "                                    project_name processing_time\n",
       "323998                         IN: MIZORAM ROADS         71 days\n",
       "359942                                 AP SAL II        187 days\n",
       "806308  UP FISCAL REFORM & PUBLIC SECTOR RESTRCT        188 days\n",
       "329648       UP FISCAL REFORM & PUBLIC SECTOR RE        188 days\n",
       "53493                                 KARN SAL I        193 days"
      ]
     },
     "execution_count": 47,
     "metadata": {},
     "output_type": "execute_result"
    }
   ],
   "source": [
    "df.sort_values(by='processing_time',ascending=True).query('country == \"India\"')[['project_name','processing_time']].drop_duplicates().head(5)"
   ]
  },
  {
   "cell_type": "markdown",
   "id": "a84e4b2b-1031-4ba5-a950-49d30a9f97fe",
   "metadata": {},
   "source": [
    "MIZORAM ROADS has the smallest approval time of 71 days."
   ]
  }
 ],
 "metadata": {
  "kernelspec": {
   "display_name": "Python 3",
   "language": "python",
   "name": "python3"
  },
  "language_info": {
   "codemirror_mode": {
    "name": "ipython",
    "version": 3
   },
   "file_extension": ".py",
   "mimetype": "text/x-python",
   "name": "python",
   "nbconvert_exporter": "python",
   "pygments_lexer": "ipython3",
   "version": "3.10.7"
  },
  "vscode": {
   "interpreter": {
    "hash": "433577fd41d80a2bb44f743295558c8ac7bcc50e38d88027d03120c0e9584402"
   }
  }
 },
 "nbformat": 4,
 "nbformat_minor": 5
}
